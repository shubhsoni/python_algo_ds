{
 "metadata": {
  "language_info": {
   "codemirror_mode": {
    "name": "ipython",
    "version": 3
   },
   "file_extension": ".py",
   "mimetype": "text/x-python",
   "name": "python",
   "nbconvert_exporter": "python",
   "pygments_lexer": "ipython3",
   "version": "3.7.4-final"
  },
  "orig_nbformat": 2,
  "kernelspec": {
   "name": "python3",
   "display_name": "Python 3",
   "language": "python"
  }
 },
 "nbformat": 4,
 "nbformat_minor": 2,
 "cells": [
  {
   "source": [
    "# week 1"
   ],
   "cell_type": "markdown",
   "metadata": {}
  },
  {
   "cell_type": "code",
   "execution_count": 1,
   "metadata": {},
   "outputs": [],
   "source": [
    "def f(x):\n",
    "    d=0\n",
    "    y=1\n",
    "    while y <= x:\n",
    "        d=d+1\n",
    "        y=y*3\n",
    "    return(d)"
   ]
  },
  {
   "cell_type": "code",
   "execution_count": 2,
   "metadata": {},
   "outputs": [
    {
     "output_type": "execute_result",
     "data": {
      "text/plain": [
       "7"
      ]
     },
     "metadata": {},
     "execution_count": 2
    }
   ],
   "source": [
    "f(846)"
   ]
  },
  {
   "cell_type": "code",
   "execution_count": 3,
   "metadata": {},
   "outputs": [],
   "source": [
    "def h(n):\n",
    "    s = 0\n",
    "    for i in range(1,n+1):\n",
    "        if n%i > 0:\n",
    "           s = s+1\n",
    "    return(s)"
   ]
  },
  {
   "cell_type": "code",
   "execution_count": 4,
   "metadata": {},
   "outputs": [
    {
     "output_type": "execute_result",
     "data": {
      "text/plain": [
       "7"
      ]
     },
     "metadata": {},
     "execution_count": 4
    }
   ],
   "source": [
    "h(41)-h(40)"
   ]
  },
  {
   "cell_type": "code",
   "execution_count": 5,
   "metadata": {},
   "outputs": [],
   "source": [
    "def g(m,n):\n",
    "    res = 0\n",
    "    while m >= n:\n",
    "        res = res+1\n",
    "        m = m-n\n",
    "    return(res)"
   ]
  },
  {
   "cell_type": "code",
   "execution_count": 6,
   "metadata": {},
   "outputs": [
    {
     "output_type": "execute_result",
     "data": {
      "text/plain": [
       "7"
      ]
     },
     "metadata": {},
     "execution_count": 6
    }
   ],
   "source": [
    "g(57,8)"
   ]
  },
  {
   "cell_type": "code",
   "execution_count": 7,
   "metadata": {},
   "outputs": [],
   "source": [
    "def mys(m):\n",
    "    if m == 1:\n",
    "        return(1)\n",
    "    else:\n",
    "        return(m*mys(m-1))"
   ]
  },
  {
   "cell_type": "code",
   "execution_count": 9,
   "metadata": {},
   "outputs": [
    {
     "output_type": "execute_result",
     "data": {
      "text/plain": [
       "120"
      ]
     },
     "metadata": {},
     "execution_count": 9
    }
   ],
   "source": [
    "mys(5)"
   ]
  },
  {
   "source": [
    "# week 2"
   ],
   "cell_type": "markdown",
   "metadata": {}
  },
  {
   "cell_type": "code",
   "execution_count": 13,
   "metadata": {},
   "outputs": [
    {
     "output_type": "error",
     "ename": "TypeError",
     "evalue": "'int' object is not subscriptable",
     "traceback": [
      "\u001b[0;31m---------------------------------------------------------------------------\u001b[0m",
      "\u001b[0;31mTypeError\u001b[0m                                 Traceback (most recent call last)",
      "\u001b[0;32m<ipython-input-13-23c680fa3923>\u001b[0m in \u001b[0;36m<module>\u001b[0;34m\u001b[0m\n\u001b[1;32m      6\u001b[0m \u001b[0my\u001b[0m\u001b[0;34m[\u001b[0m\u001b[0;36m0\u001b[0m\u001b[0;34m]\u001b[0m \u001b[0;34m=\u001b[0m \u001b[0my\u001b[0m\u001b[0;34m[\u001b[0m\u001b[0;36m0\u001b[0m\u001b[0;34m]\u001b[0m\u001b[0;34m[\u001b[0m\u001b[0;36m0\u001b[0m\u001b[0;34m:\u001b[0m\u001b[0;36m3\u001b[0m\u001b[0;34m]\u001b[0m \u001b[0;34m+\u001b[0m \u001b[0;34m'k'\u001b[0m          \u001b[0;31m# Statement 6\u001b[0m\u001b[0;34m\u001b[0m\u001b[0;34m\u001b[0m\u001b[0m\n\u001b[1;32m      7\u001b[0m \u001b[0my\u001b[0m\u001b[0;34m[\u001b[0m\u001b[0;36m1\u001b[0m\u001b[0;34m]\u001b[0m\u001b[0;34m[\u001b[0m\u001b[0;36m1\u001b[0m\u001b[0;34m:\u001b[0m\u001b[0;36m3\u001b[0m\u001b[0;34m]\u001b[0m \u001b[0;34m=\u001b[0m \u001b[0;34m[\u001b[0m\u001b[0;36m5\u001b[0m\u001b[0;34m,\u001b[0m\u001b[0;36m8\u001b[0m\u001b[0;34m]\u001b[0m               \u001b[0;31m# Statement 7\u001b[0m\u001b[0;34m\u001b[0m\u001b[0;34m\u001b[0m\u001b[0m\n\u001b[0;32m----> 8\u001b[0;31m \u001b[0mx\u001b[0m\u001b[0;34m[\u001b[0m\u001b[0;36m0\u001b[0m\u001b[0;34m]\u001b[0m \u001b[0;34m=\u001b[0m \u001b[0mx\u001b[0m\u001b[0;34m[\u001b[0m\u001b[0;36m0\u001b[0m\u001b[0;34m]\u001b[0m\u001b[0;34m[\u001b[0m\u001b[0;36m1\u001b[0m\u001b[0;34m:\u001b[0m\u001b[0;36m3\u001b[0m\u001b[0;34m]\u001b[0m                \u001b[0;31m# Statement 8\u001b[0m\u001b[0;34m\u001b[0m\u001b[0;34m\u001b[0m\u001b[0m\n\u001b[0m\u001b[1;32m      9\u001b[0m \u001b[0mw\u001b[0m\u001b[0;34m[\u001b[0m\u001b[0;36m4\u001b[0m\u001b[0;34m]\u001b[0m\u001b[0;34m[\u001b[0m\u001b[0;36m0\u001b[0m\u001b[0;34m]\u001b[0m \u001b[0;34m=\u001b[0m \u001b[0;36m1000\u001b[0m                  \u001b[0;31m# Statement 9\u001b[0m\u001b[0;34m\u001b[0m\u001b[0;34m\u001b[0m\u001b[0m\n\u001b[1;32m     10\u001b[0m \u001b[0ma\u001b[0m \u001b[0;34m=\u001b[0m \u001b[0;34m(\u001b[0m\u001b[0mx\u001b[0m\u001b[0;34m[\u001b[0m\u001b[0;36m4\u001b[0m\u001b[0;34m]\u001b[0m\u001b[0;34m[\u001b[0m\u001b[0;36m1\u001b[0m\u001b[0;34m]\u001b[0m \u001b[0;34m==\u001b[0m \u001b[0;36m4\u001b[0m\u001b[0;34m)\u001b[0m              \u001b[0;31m# Statement 10\u001b[0m\u001b[0;34m\u001b[0m\u001b[0;34m\u001b[0m\u001b[0m\n",
      "\u001b[0;31mTypeError\u001b[0m: 'int' object is not subscriptable"
     ]
    }
   ],
   "source": [
    "x = [\"sun\",[17],2,\"king\",[3,4]] # Statement 1\n",
    "y = x[0:8]                      # Statement 2\n",
    "z = x                           # Statement 3\n",
    "w = y                           # Statement 4\n",
    "z[0] = 0                        # Statement 5\n",
    "y[0] = y[0][0:3] + 'k'          # Statement 6\n",
    "y[1][1:3] = [5,8]               # Statement 7\n",
    "x[0] = x[0][1:3]                # Statement 8\n",
    "w[4][0] = 1000                  # Statement 9\n",
    "a = (x[4][1] == 4)              # Statement 10"
   ]
  },
  {
   "cell_type": "code",
   "execution_count": 14,
   "metadata": {},
   "outputs": [],
   "source": [
    "x = [589,'big',397,'bash']\n",
    "y = x[2:]\n",
    "u = x\n",
    "w = y\n",
    "w = w[0:]\n",
    "w[0] = 357\n",
    "x[2:3] = [487]"
   ]
  },
  {
   "cell_type": "code",
   "execution_count": 15,
   "metadata": {},
   "outputs": [
    {
     "output_type": "execute_result",
     "data": {
      "text/plain": [
       "(487, 397, 487, 357)"
      ]
     },
     "metadata": {},
     "execution_count": 15
    }
   ],
   "source": [
    "x[2], y[0], u[2], w[0]"
   ]
  },
  {
   "cell_type": "code",
   "execution_count": 19,
   "metadata": {},
   "outputs": [
    {
     "output_type": "execute_result",
     "data": {
      "text/plain": [
       "'aedsoe'"
      ]
     },
     "metadata": {},
     "execution_count": 19
    }
   ],
   "source": [
    "first = \"kaleidoscope\"\n",
    "second = \"\"\n",
    "for i in range(len(first)-1,-1,-2):\n",
    "  second = first[i]+second\n",
    "second"
   ]
  },
  {
   "cell_type": "code",
   "execution_count": 17,
   "metadata": {},
   "outputs": [
    {
     "output_type": "execute_result",
     "data": {
      "text/plain": [
       "()"
      ]
     },
     "metadata": {},
     "execution_count": 17
    }
   ],
   "source": [
    "def mystery(l):\n",
    "  l[0:2] = l[3:5]\n",
    "  return()\n",
    "\n",
    "list1 = [34,17,12,88,53,97,62]\n",
    "mystery(list1)"
   ]
  },
  {
   "cell_type": "code",
   "execution_count": 18,
   "metadata": {},
   "outputs": [
    {
     "output_type": "execute_result",
     "data": {
      "text/plain": [
       "[88, 53, 12, 88, 53, 97, 62]"
      ]
     },
     "metadata": {},
     "execution_count": 18
    }
   ],
   "source": [
    "list1"
   ]
  },
  {
   "source": [
    "# primepartition"
   ],
   "cell_type": "markdown",
   "metadata": {}
  },
  {
   "cell_type": "code",
   "execution_count": 1,
   "metadata": {},
   "outputs": [],
   "source": [
    "def primepartition(m):\n",
    "    if m<0:\n",
    "        return False\n",
    "    \n",
    "    # collect prime numbers upto m\n",
    "    primelist = primeupto(m)\n",
    "\n",
    "    # check if sum of 2 primes is m \n",
    "    # m - prime1 = prime2 then true\n",
    "    for prime in primelist:\n",
    "        if isprime(m - prime):\n",
    "            return True\n",
    "    return False"
   ]
  },
  {
   "cell_type": "code",
   "execution_count": 2,
   "metadata": {},
   "outputs": [],
   "source": [
    "def primeupto(n):\n",
    "    primelist = []\n",
    "    for i in range(3,n):\n",
    "        if isprime(i):\n",
    "            primelist.append(i)\n",
    "    return primelist"
   ]
  },
  {
   "cell_type": "code",
   "execution_count": 3,
   "metadata": {},
   "outputs": [],
   "source": [
    "def isprime(n):\n",
    "    ''' n is prime if it's divisible by 1 and itself\n",
    "        -> there are no other factors of the number \n",
    "        other than [1, n]\n",
    "    '''\n",
    "    factors = []\n",
    "    prime = False\n",
    "    \n",
    "    for i in range(1,n+1):  #this could be improved, go from n to 1 and break even if 1 factor is found\n",
    "        if n%i == 0:\n",
    "            factors += [i]\n",
    "    if factors == [1, n]:\n",
    "        prime = True\n",
    "    # print(factors)\n",
    "    return prime"
   ]
  },
  {
   "cell_type": "code",
   "execution_count": 120,
   "metadata": {
    "tags": []
   },
   "outputs": [
    {
     "output_type": "stream",
     "name": "stdout",
     "text": [
      "5.7 µs ± 74.1 ns per loop (mean ± std. dev. of 7 runs, 100000 loops each)\n"
     ]
    }
   ],
   "source": [
    "%timeit isprime(123)"
   ]
  },
  {
   "cell_type": "code",
   "execution_count": 6,
   "metadata": {},
   "outputs": [
    {
     "output_type": "execute_result",
     "data": {
      "text/plain": [
       "True"
      ]
     },
     "metadata": {},
     "execution_count": 6
    }
   ],
   "source": [
    "primepartition(3432)"
   ]
  },
  {
   "source": [
    "# matched"
   ],
   "cell_type": "markdown",
   "metadata": {}
  },
  {
   "cell_type": "code",
   "execution_count": 25,
   "metadata": {},
   "outputs": [],
   "source": [
    "def matched(s):\n",
    "    brackets = []\n",
    "    for c in s:\n",
    "        if c=='(': \n",
    "            brackets.append(1)\n",
    "        elif c==')' and (1 in brackets):\n",
    "            brackets.append(-1)\n",
    "        else:\n",
    "            brackets.append(0)\n",
    "            \n",
    "    return sum(brackets) == 0"
   ]
  },
  {
   "cell_type": "code",
   "execution_count": 26,
   "metadata": {},
   "outputs": [
    {
     "output_type": "execute_result",
     "data": {
      "text/plain": [
       "False"
      ]
     },
     "metadata": {},
     "execution_count": 26
    }
   ],
   "source": [
    "matched(\"a)*(?\")"
   ]
  },
  {
   "source": [
    "# Rotated list"
   ],
   "cell_type": "markdown",
   "metadata": {}
  },
  {
   "cell_type": "code",
   "execution_count": 59,
   "metadata": {},
   "outputs": [],
   "source": [
    "def rotatelist(l,k):\n",
    "    if k<1:\n",
    "        return l\n",
    "    ll = (k+1)*l\n",
    "    return ll[k:k+len(l)]"
   ]
  },
  {
   "cell_type": "code",
   "execution_count": 64,
   "metadata": {},
   "outputs": [],
   "source": [
    "l = [1,2,3,4,5]\n",
    "k = 12"
   ]
  },
  {
   "cell_type": "code",
   "execution_count": 65,
   "metadata": {},
   "outputs": [
    {
     "output_type": "execute_result",
     "data": {
      "text/plain": [
       "[3, 4, 5, 1, 2]"
      ]
     },
     "metadata": {},
     "execution_count": 65
    }
   ],
   "source": [
    "rotatelist(l,k)"
   ]
  },
  {
   "cell_type": "code",
   "execution_count": 37,
   "metadata": {},
   "outputs": [
    {
     "output_type": "execute_result",
     "data": {
      "text/plain": [
       "[3, 4, 5, 1, 2]"
      ]
     },
     "metadata": {},
     "execution_count": 37
    }
   ],
   "source": []
  },
  {
   "cell_type": "code",
   "execution_count": 66,
   "metadata": {},
   "outputs": [],
   "source": [
    "rr ={50: 18353.8393511688,\n",
    " 100: 18395.2151680032,\n",
    " 150: 18288.730020956387,\n",
    " 200: 18248.345889801505,\n",
    " 250: 18255.26922247291,\n",
    " 300: 18275.241922621914,\n",
    " 350: 18270.29183308043,\n",
    " 400: 18270.197974402367}"
   ]
  },
  {
   "cell_type": "code",
   "execution_count": 75,
   "metadata": {},
   "outputs": [
    {
     "output_type": "execute_result",
     "data": {
      "text/plain": [
       "dict_items([(50, 18353.8393511688), (100, 18395.2151680032), (150, 18288.730020956387), (200, 18248.345889801505), (250, 18255.26922247291), (300, 18275.241922621914), (350, 18270.29183308043), (400, 18270.197974402367)])"
      ]
     },
     "metadata": {},
     "execution_count": 75
    }
   ],
   "source": [
    "[rr.items()]"
   ]
  },
  {
   "cell_type": "code",
   "execution_count": 76,
   "metadata": {},
   "outputs": [],
   "source": [
    "l = [3,1,3,5]"
   ]
  },
  {
   "cell_type": "code",
   "execution_count": 15,
   "metadata": {},
   "outputs": [],
   "source": [
    "def remdup(l):\n",
    "    ll = []\n",
    "    for i in l:\n",
    "        if i in ll:\n",
    "            ll.remove(i)\n",
    "            \n",
    "        ll.append(i)\n",
    "    return ll"
   ]
  },
  {
   "cell_type": "code",
   "execution_count": 16,
   "metadata": {},
   "outputs": [
    {
     "output_type": "execute_result",
     "data": {
      "text/plain": [
       "[1, 3, 5]"
      ]
     },
     "metadata": {},
     "execution_count": 16
    }
   ],
   "source": [
    "remdup(\n",
    "    # [3,5,7,5,3,7,10]\n",
    "    [3,1,3,5]\n",
    "    # [7,3,-1,-5]\n",
    "    )"
   ]
  },
  {
   "cell_type": "code",
   "execution_count": 105,
   "metadata": {},
   "outputs": [],
   "source": [
    "def splitsum(l):\n",
    "    pos = 0\n",
    "    pos = sum([ll**2 for ll in l if ll>0])\n",
    "\n",
    "    neg = 0\n",
    "    neg = sum([ll**3 for ll in l if ll<0])\n",
    "    return [pos,neg]"
   ]
  },
  {
   "cell_type": "code",
   "execution_count": 109,
   "metadata": {},
   "outputs": [
    {
     "output_type": "execute_result",
     "data": {
      "text/plain": [
       "[13, -344]"
      ]
     },
     "metadata": {},
     "execution_count": 109
    }
   ],
   "source": [
    "splitsum(\n",
    "    # [1,3,-5]\n",
    "    # [2,4,6]\n",
    "    # [-19,-7,-6,0]\n",
    "    [-1,2,3,-7]\n",
    ")"
   ]
  },
  {
   "cell_type": "code",
   "execution_count": 186,
   "metadata": {},
   "outputs": [
    {
     "output_type": "execute_result",
     "data": {
      "text/plain": [
       "[[1, 2], [3, 4]]"
      ]
     },
     "metadata": {},
     "execution_count": 186
    }
   ],
   "source": [
    "myl = [[1,2],[3,4]]\n",
    "mat = myl.copy()\n",
    "mat"
   ]
  },
  {
   "cell_type": "code",
   "execution_count": 1,
   "metadata": {},
   "outputs": [],
   "source": []
  },
  {
   "cell_type": "code",
   "execution_count": 2,
   "metadata": {},
   "outputs": [],
   "source": []
  },
  {
   "cell_type": "code",
   "execution_count": 3,
   "metadata": {},
   "outputs": [],
   "source": []
  },
  {
   "cell_type": "code",
   "execution_count": 11,
   "metadata": {},
   "outputs": [],
   "source": [
    "def horzflip(mat_h):\n",
    "    new_mat = list(mat_h)\n",
    "    for i in range(len(new_mat)):\n",
    "        new_mat[i].reverse()\n",
    "    return new_mat\n",
    "def transposed(mat_t):\n",
    "    biglist = []\n",
    "    sublist = []\n",
    "    new_mat = list(mat_t)\n",
    "    for i in range(len(new_mat)):\n",
    "        for j in range(len(new_mat)):\n",
    "            sublist.append(new_mat[j][i])\n",
    "        biglist.append(sublist)\n",
    "        sublist = []\n",
    "    return biglist\n",
    "def vertflip(mat_v):\n",
    "    new_mat = list(mat_v)\n",
    "    return transposed(horzflip(transposed(new_mat)))\n",
    "def matrixflip(matrices, direction):\n",
    "    new_mat = list(matrices)\n",
    "    if direction=='h':\n",
    "        return horzflip(new_mat)\n",
    "    elif direction=='v':\n",
    "        return vertflip(new_mat)\n",
    "    else:\n",
    "        return list(matrices)"
   ]
  },
  {
   "cell_type": "code",
   "execution_count": 12,
   "metadata": {},
   "outputs": [],
   "source": [
    "myl = [[1,2],[3,4]]\n"
   ]
  },
  {
   "cell_type": "code",
   "execution_count": 13,
   "metadata": {},
   "outputs": [
    {
     "output_type": "execute_result",
     "data": {
      "text/plain": [
       "[[2, 1], [4, 3]]"
      ]
     },
     "metadata": {},
     "execution_count": 13
    }
   ],
   "source": [
    "matrixflip(myl,'h')"
   ]
  },
  {
   "cell_type": "code",
   "execution_count": 14,
   "metadata": {},
   "outputs": [
    {
     "output_type": "execute_result",
     "data": {
      "text/plain": [
       "[[2, 1], [4, 3]]"
      ]
     },
     "metadata": {},
     "execution_count": 14
    }
   ],
   "source": [
    "myl"
   ]
  },
  {
   "cell_type": "code",
   "execution_count": 10,
   "metadata": {},
   "outputs": [
    {
     "output_type": "execute_result",
     "data": {
      "text/plain": [
       "[[4, 3], [2, 1]]"
      ]
     },
     "metadata": {},
     "execution_count": 10
    }
   ],
   "source": [
    "matrixflip(matrixflip(myl,'h'),'v')"
   ]
  },
  {
   "cell_type": "code",
   "execution_count": 17,
   "metadata": {},
   "outputs": [
    {
     "output_type": "error",
     "ename": "NameError",
     "evalue": "name 'namedtuple' is not defined",
     "traceback": [
      "\u001b[0;31m---------------------------------------------------------------------------\u001b[0m",
      "\u001b[0;31mNameError\u001b[0m                                 Traceback (most recent call last)",
      "\u001b[0;32m<ipython-input-17-74e7bc1c8746>\u001b[0m in \u001b[0;36m<module>\u001b[0;34m\u001b[0m\n\u001b[0;32m----> 1\u001b[0;31m \u001b[0mnamedtuple\u001b[0m\u001b[0;34m(\u001b[0m\u001b[0;34m[\u001b[0m\u001b[0;36m1\u001b[0m\u001b[0;34m,\u001b[0m\u001b[0;36m2\u001b[0m\u001b[0;34m,\u001b[0m\u001b[0;36m3\u001b[0m\u001b[0;34m]\u001b[0m\u001b[0;34m)\u001b[0m\u001b[0;34m\u001b[0m\u001b[0;34m\u001b[0m\u001b[0m\n\u001b[0m",
      "\u001b[0;31mNameError\u001b[0m: name 'namedtuple' is not defined"
     ]
    }
   ],
   "source": [
    "namedtuple([1,2,3])"
   ]
  },
  {
   "cell_type": "code",
   "execution_count": 21,
   "metadata": {},
   "outputs": [],
   "source": [
    "def mystery(l):\n",
    "  if (l == []):\n",
    "    return(l)\n",
    "  else:\n",
    "    mid = len(l)//2\n",
    "    if (len(l)%2 == 0):\n",
    "      return l[mid-1:mid+1] + mystery(l[:mid-1]+l[mid+1:])\n",
    "    else:\n",
    "      return l[mid:mid+1] + mystery(l[:mid]+l[mid+1:])"
   ]
  },
  {
   "cell_type": "code",
   "execution_count": 22,
   "metadata": {},
   "outputs": [
    {
     "output_type": "execute_result",
     "data": {
      "text/plain": [
       "[19, 65, 14, 82, 22, 55]"
      ]
     },
     "metadata": {},
     "execution_count": 22
    }
   ],
   "source": [
    "mystery([22,14,19,65,82,55])"
   ]
  },
  {
   "cell_type": "code",
   "execution_count": 23,
   "metadata": {},
   "outputs": [
    {
     "output_type": "execute_result",
     "data": {
      "text/plain": [
       "[(2, 4, 5), (3, 3, 5), (3, 4, 5), (3, 4, 6)]"
      ]
     },
     "metadata": {},
     "execution_count": 23
    }
   ],
   "source": [
    "[ (x,y,z) for x in range(1,4) for y in range(2,5) for z in range(5,8) if x+y > z ]"
   ]
  },
  {
   "cell_type": "code",
   "execution_count": 142,
   "metadata": {},
   "outputs": [],
   "source": [
    " marks = {\"Quizzes\":{\"Mahesh\":[3,5,7,8],\"Suresh\":[9,4,8,8],\"Uma\":[9,9,7,6]},\"Exams\":{\"Mahesh\":[37],\"Uma\":[36]}}"
   ]
  },
  {
   "cell_type": "code",
   "execution_count": 143,
   "metadata": {},
   "outputs": [],
   "source": [
    "marks[\"Exams\"][\"Suresh\"] = [44]"
   ]
  },
  {
   "cell_type": "code",
   "execution_count": 150,
   "metadata": {},
   "outputs": [],
   "source": [
    "inventory = {}"
   ]
  },
  {
   "cell_type": "code",
   "execution_count": 151,
   "metadata": {},
   "outputs": [],
   "source": [
    "inventory[(\"Amul\",\"Mystic Mocha\")] = 55"
   ]
  },
  {
   "cell_type": "code",
   "execution_count": 145,
   "metadata": {},
   "outputs": [],
   "source": [
    "inventory[\"Amul\"] = [\"Mystic Mocha\",55]"
   ]
  },
  {
   "cell_type": "code",
   "execution_count": 147,
   "metadata": {},
   "outputs": [],
   "source": [
    "inventory[\"Amul, Mystic Mocha\"] = 55"
   ]
  },
  {
   "cell_type": "code",
   "execution_count": 149,
   "metadata": {},
   "outputs": [
    {
     "output_type": "error",
     "ename": "TypeError",
     "evalue": "unhashable type: 'list'",
     "traceback": [
      "\u001b[0;31m---------------------------------------------------------------------------\u001b[0m",
      "\u001b[0;31mTypeError\u001b[0m                                 Traceback (most recent call last)",
      "\u001b[0;32m<ipython-input-149-e6ad430c1f7b>\u001b[0m in \u001b[0;36m<module>\u001b[0;34m\u001b[0m\n\u001b[0;32m----> 1\u001b[0;31m \u001b[0minventory\u001b[0m\u001b[0;34m[\u001b[0m\u001b[0;34m[\u001b[0m\u001b[0;34m\"Amul\"\u001b[0m\u001b[0;34m,\u001b[0m\u001b[0;34m\"Mystic Mocha\"\u001b[0m\u001b[0;34m]\u001b[0m\u001b[0;34m]\u001b[0m \u001b[0;34m=\u001b[0m \u001b[0;36m55\u001b[0m\u001b[0;34m\u001b[0m\u001b[0;34m\u001b[0m\u001b[0m\n\u001b[0m",
      "\u001b[0;31mTypeError\u001b[0m: unhashable type: 'list'"
     ]
    }
   ],
   "source": [
    "inventory[[\"Amul\",\"Mystic Mocha\"]] = 55"
   ]
  },
  {
   "cell_type": "code",
   "execution_count": 88,
   "metadata": {},
   "outputs": [],
   "source": [
    "l=[(1,2),(1,3),(2,3),(1,1),(3,8)]"
   ]
  },
  {
   "cell_type": "code",
   "execution_count": 61,
   "metadata": {},
   "outputs": [],
   "source": [
    "def running_avg(mu, n, xnew):\n",
    "    return (xnew + n*mu)/(n+1)"
   ]
  },
  {
   "cell_type": "code",
   "execution_count": 91,
   "metadata": {},
   "outputs": [],
   "source": [
    "def rainaverage(l):\n",
    "    d = {}\n",
    "    for i,v in l:\n",
    "        if i in d.keys():\n",
    "            d[i].append(v)\n",
    "        else:\n",
    "            d[i] = []\n",
    "            d[i].append(v)\n",
    "\n",
    "    return sorted([(k,sum(d[k])/len(d[k])) for k in d.keys()])\n"
   ]
  },
  {
   "cell_type": "code",
   "execution_count": 92,
   "metadata": {},
   "outputs": [
    {
     "output_type": "execute_result",
     "data": {
      "text/plain": [
       "[(1, 2.0), (2, 3.0), (3, 8.0)]"
      ]
     },
     "metadata": {},
     "execution_count": 92
    }
   ],
   "source": [
    "rainaverage(l)"
   ]
  },
  {
   "cell_type": "code",
   "execution_count": 93,
   "metadata": {},
   "outputs": [],
   "source": [
    "l=[('Bombay',848),('Madras',103),('Bombay',923),('Bangalore',201),('Madras',128)]"
   ]
  },
  {
   "cell_type": "code",
   "execution_count": 94,
   "metadata": {},
   "outputs": [
    {
     "output_type": "execute_result",
     "data": {
      "text/plain": [
       "[('Bangalore', 201.0), ('Bombay', 885.5), ('Madras', 115.5)]"
      ]
     },
     "metadata": {},
     "execution_count": 94
    }
   ],
   "source": [
    "rainaverage(l)"
   ]
  },
  {
   "cell_type": "code",
   "execution_count": 119,
   "metadata": {},
   "outputs": [],
   "source": [
    "ll=[1,2,[3],[4,[5,6]]]"
   ]
  },
  {
   "cell_type": "code",
   "execution_count": 96,
   "metadata": {},
   "outputs": [],
   "source": [
    "def listtype(l): return (type(l)==type([]))"
   ]
  },
  {
   "cell_type": "code",
   "execution_count": 97,
   "metadata": {},
   "outputs": [
    {
     "output_type": "stream",
     "name": "stdout",
     "text": [
      "[3]\n[4, [5, 6]]\n"
     ]
    }
   ],
   "source": [
    "for i in ll:\n",
    "    if listtype(i):\n",
    "        print(i)"
   ]
  },
  {
   "cell_type": "code",
   "execution_count": 123,
   "metadata": {},
   "outputs": [],
   "source": [
    "\n",
    "def append_list(ll,flat):\n",
    "    for i in ll:\n",
    "        if type(i)==type([]):\n",
    "            append_list(i, flat)\n",
    "        else:\n",
    "            flat.append(i)\n",
    "    return flat"
   ]
  },
  {
   "cell_type": "code",
   "execution_count": 124,
   "metadata": {},
   "outputs": [],
   "source": [
    "def flatten(ll):\n",
    "    flat = []\n",
    "    append_list(ll, flat)\n",
    "    return flat"
   ]
  },
  {
   "cell_type": "code",
   "execution_count": 125,
   "metadata": {},
   "outputs": [
    {
     "output_type": "execute_result",
     "data": {
      "text/plain": [
       "[1, 2, 3, 4, 5, 6]"
      ]
     },
     "metadata": {},
     "execution_count": 125
    }
   ],
   "source": [
    "flatten(ll)"
   ]
  },
  {
   "cell_type": "code",
   "execution_count": 126,
   "metadata": {},
   "outputs": [],
   "source": [
    "l=[1,2,3,(4,5,6)]"
   ]
  },
  {
   "cell_type": "code",
   "execution_count": 127,
   "metadata": {},
   "outputs": [
    {
     "output_type": "execute_result",
     "data": {
      "text/plain": [
       "[1, 2, 3, (4, 5, 6)]"
      ]
     },
     "metadata": {},
     "execution_count": 127
    }
   ],
   "source": [
    "flatten(l)"
   ]
  },
  {
   "cell_type": "code",
   "execution_count": 75,
   "metadata": {},
   "outputs": [
    {
     "output_type": "execute_result",
     "data": {
      "text/plain": [
       "['Thiem:Medvedev:2-6,6-7,7-6,6-3,6-1',\n",
       " 'Barty:Osaka:6-4,6-4',\n",
       " 'Medvedev:Thiem:6-3,6-3',\n",
       " 'Osaka:Barty:1-6,7-5,6-2',\n",
       " 'Thiem:Medvedev:6-0,7-6,6-3',\n",
       " 'Osaka:Barty:2-6,6-2,6-0',\n",
       " 'Medvedev:Thiem:6-3,4-6,6-3,6-4',\n",
       " 'Barty:Osaka:6-1,3-6,7-5',\n",
       " 'Thiem:Medvedev:7-6,4-6,7-6,2-6,6-2',\n",
       " 'Osaka:Barty:6-4,1-6,6-3',\n",
       " 'Medvedev:Thiem:7-5,7-5',\n",
       " 'Osaka:Barty:3-6,6-3,6-3']"
      ]
     },
     "metadata": {},
     "execution_count": 75
    }
   ],
   "source": [
    "scores = ['Thiem:Medvedev:2-6,6-7,7-6,6-3,6-1',\n",
    " 'Barty:Osaka:6-4,6-4',\n",
    " 'Medvedev:Thiem:6-3,6-3',\n",
    " 'Osaka:Barty:1-6,7-5,6-2', ----\n",
    " 'Thiem:Medvedev:6-0,7-6,6-3',\n",
    " 'Osaka:Barty:2-6,6-2,6-0',  ----\n",
    " 'Medvedev:Thiem:6-3,4-6,6-3,6-4',\n",
    " 'Barty:Osaka:6-1,3-6,7-5',\n",
    " 'Thiem:Medvedev:7-6,4-6,7-6,2-6,6-2',\n",
    " 'Osaka:Barty:6-4,1-6,6-3',  ----\n",
    " 'Medvedev:Thiem:7-5,7-5',\n",
    " 'Osaka:Barty:3-6,6-3,6-3']. --- \n",
    "scores"
   ]
  },
  {
   "cell_type": "code",
   "execution_count": 100,
   "metadata": {},
   "outputs": [
    {
     "output_type": "stream",
     "name": "stdout",
     "text": [
      "Thiem 3 0 10 104 11 106\nMedvedev 1 2 11 106 10 104\nOsaka 0 4 9 76 8 74\nBarty 0 2 8 74 9 76\n"
     ]
    }
   ],
   "source": [
    "\n",
    "# scores = []\n",
    "\n",
    "# while True:\n",
    "#     s = input()\n",
    "#     if s: scores.append(s)\n",
    "#     else: break\n",
    "  \n",
    "def get_players(scores):\n",
    "    teams = [s.split(':')[:-1] for s in scores]\n",
    "    players = []\n",
    "    for t in teams:\n",
    "        for p in t:\n",
    "            players.append(p)\n",
    "        \n",
    "    players = set(players)\n",
    "    return players\n",
    "\n",
    "streak = {}\n",
    "play_record = {'set_5_won': 0, \n",
    "                'set_3_won': 0,\n",
    "                'set_won': 0,\n",
    "                'game_won': 0,\n",
    "                'set_lost': 0,\n",
    "                'game_lost': 0\n",
    "                }\n",
    "\n",
    "for player in get_players(scores):\n",
    "    streak[player] = play_record.copy()\n",
    "\n",
    "for ss in scores:\n",
    "    winner, loser, set_score = ss.split(':')\n",
    "    set_score_cleaned = []\n",
    "    for s in set_score.split(','):\n",
    "        s_ = s.split('-')\n",
    "        s_ = int(s_[0]), int(s_[1])\n",
    "        set_score_cleaned.append(s_)\n",
    "\n",
    "    if len(set_score_cleaned) >= 4:\n",
    "        streak[winner]['set_5_won'] += 1\n",
    "    if (len(set_score_cleaned) ==3):\n",
    "        if ((set_score_cleaned[0][0] > set_score_cleaned[0][1]) and\\\n",
    "            (set_score_cleaned[1][0] > set_score_cleaned[1][1]) and\\\n",
    "            (set_score_cleaned[2][0] > set_score_cleaned[2][1])\n",
    "                ):\n",
    "            streak[winner]['set_5_won'] += 1\n",
    "        else:\n",
    "            streak[winner]['set_3_won'] += 1\n",
    "    if len(set_score_cleaned) < 3:\n",
    "        streak[winner]['set_3_won'] += 1\n",
    "\n",
    "    w_wins, w_losses = 0, 0 #winner\n",
    "    l_wins, l_losses = 0, 0 #loser\n",
    "    w_set_wins, w_set_losses = 0, 0\n",
    "    l_set_wins, l_set_losses = 0, 0\n",
    "\n",
    "    for w,l in set_score_cleaned:\n",
    "        w_wins += w \n",
    "        l_losses += w\n",
    "        l_wins += l\n",
    "        w_losses += l\n",
    "\n",
    "        if w > l:\n",
    "            w_set_wins += 1\n",
    "            l_set_losses += 1\n",
    "        else:\n",
    "            w_set_losses += 1\n",
    "            l_set_wins += 1\n",
    "\n",
    "    streak[winner]['set_won'] += w_set_wins\n",
    "    streak[winner]['set_lost'] += w_set_losses\n",
    "    streak[winner]['game_won'] += w_wins\n",
    "    streak[winner]['game_lost'] += w_losses\n",
    "\n",
    "    streak[loser]['set_won'] += l_set_wins\n",
    "    streak[loser]['set_lost'] += l_set_losses\n",
    "    streak[loser]['game_won'] += l_wins\n",
    "    streak[loser]['game_lost'] += l_losses\n",
    "\n",
    "results_list = {}\n",
    "for k in streak.keys():\n",
    "    # results_list.append(list(streak[k].values()))\n",
    "    results_list.update( {k:list(streak[k].values())})\n",
    "\n",
    "sorted_results = {k:v for k,v in sorted(results_list.items(), key= lambda x: x[1]  , reverse=True)}\n",
    "\n",
    "for k in sorted_results.keys():\n",
    "    # print(k,streak[k])\n",
    "    sorted_results = ' '.join(str(i) for i in list(streak[k].values()))\n",
    "    print(' '.join(kk for kk in [k,sorted_results]))"
   ]
  },
  {
   "cell_type": "code",
   "execution_count": 91,
   "metadata": {},
   "outputs": [],
   "source": []
  },
  {
   "cell_type": "code",
   "execution_count": 98,
   "metadata": {},
   "outputs": [],
   "source": []
  },
  {
   "cell_type": "code",
   "execution_count": 99,
   "metadata": {},
   "outputs": [
    {
     "output_type": "stream",
     "name": "stdout",
     "text": [
      "Thiem 3 0 10 104 11 106\nMedvedev 1 2 11 106 10 104\nOsaka 0 4 9 76 8 74\nBarty 0 2 8 74 9 76\n"
     ]
    }
   ],
   "source": []
  },
  {
   "cell_type": "code",
   "execution_count": 89,
   "metadata": {},
   "outputs": [
    {
     "output_type": "execute_result",
     "data": {
      "text/plain": [
       "[[3, 0, 10, 104, 11, 106],\n",
       " [1, 2, 11, 106, 10, 104],\n",
       " [0, 4, 9, 76, 8, 74],\n",
       " [0, 2, 8, 74, 9, 76]]"
      ]
     },
     "metadata": {},
     "execution_count": 89
    }
   ],
   "source": [
    "sorted(results_list, reverse=True)"
   ]
  },
  {
   "cell_type": "code",
   "execution_count": 72,
   "metadata": {},
   "outputs": [
    {
     "output_type": "stream",
     "name": "stdout",
     "text": [
      "Thiem 3 0 10 104 11 106\nMedvedev 0 0 11 106 10 104\nOsaka 1 3 9 76 8 74\nBarty 1 0 8 74 9 76\n"
     ]
    }
   ],
   "source": []
  },
  {
   "cell_type": "code",
   "execution_count": 125,
   "metadata": {},
   "outputs": [
    {
     "output_type": "execute_result",
     "data": {
      "text/plain": [
       "({6, 7, 8}, {4, 5})"
      ]
     },
     "metadata": {},
     "execution_count": 125
    }
   ],
   "source": [
    "u= set([6,7,8])\n",
    "v= set([4,5])\n",
    "u,v"
   ]
  },
  {
   "cell_type": "code",
   "execution_count": 126,
   "metadata": {},
   "outputs": [
    {
     "output_type": "execute_result",
     "data": {
      "text/plain": [
       "True"
      ]
     },
     "metadata": {},
     "execution_count": 126
    }
   ],
   "source": [
    "u|v == u^v"
   ]
  },
  {
   "cell_type": "code",
   "execution_count": 53,
   "metadata": {},
   "outputs": [],
   "source": [
    "# mx_heap = [19, 28, 29, 31, 31, 45, 55, 72, 83, 97]\n",
    "mx_heap = [74, 37, 55, 31, 19, 42, 29, 18]"
   ]
  },
  {
   "cell_type": "code",
   "execution_count": 54,
   "metadata": {},
   "outputs": [],
   "source": [
    "import numpy as np"
   ]
  },
  {
   "cell_type": "code",
   "execution_count": 56,
   "metadata": {},
   "outputs": [],
   "source": [
    "def print_heap(mx_heap):\n",
    "    for i in range(int(np.log2(len(mx_heap)))+2):\n",
    "        try: print(mx_heap[i], end=\" \")\n",
    "        except: pass\n",
    "\n",
    "        try: print(mx_heap[2*i+1], end=\" \")\n",
    "        except: pass\n",
    "\n",
    "        try: print(mx_heap[2*i+2], end=\" \")\n",
    "        except: pass\n",
    "        print()"
   ]
  },
  {
   "cell_type": "code",
   "execution_count": 57,
   "metadata": {},
   "outputs": [
    {
     "output_type": "stream",
     "name": "stdout",
     "text": [
      "74 37 55 \n37 31 19 \n55 42 29 \n31 18 \n19 \n"
     ]
    }
   ],
   "source": [
    "print_heap(mx_heap)"
   ]
  },
  {
   "cell_type": "code",
   "execution_count": 2,
   "metadata": {},
   "outputs": [],
   "source": [
    "def mergebad(l1,l2):\n",
    "\n",
    "  (lmerged,i,j) = ([],0,0)\n",
    "\n",
    "  while i+j < len(l1) + len(l2):\n",
    "    if i == len(l1):\n",
    "      lmerged.append(l2[j])\n",
    "      j = j+1\n",
    "    elif j == len(l2):\n",
    "      lmerged.append(l1[i])\n",
    "      i = i+1\n",
    "    elif l1[i] < l2[j]:\n",
    "      lmerged.append(l1[i])\n",
    "      i = i+1\n",
    "    elif l2[j] < l1[i]:\n",
    "      lmerged.append(l2[j])\n",
    "      j = j+1\n",
    "    else:\n",
    "      lmerged.append(l1[i])\n",
    "      i = i+1\n",
    "      j = j+1\n",
    "    \n",
    "  return(lmerged)    \n",
    "\n",
    "def mergesortbad(l):\n",
    "  if len(l) < 2:\n",
    "    return(l)\n",
    "  else:\n",
    "    n = len(l)\n",
    "    leftsorted = mergesortbad(l[:n//2])\n",
    "    rightsorted = mergesortbad(l[n//2:])\n",
    "    return(mergebad(leftsorted,rightsorted))"
   ]
  },
  {
   "cell_type": "code",
   "execution_count": 9,
   "metadata": {},
   "outputs": [
    {
     "output_type": "execute_result",
     "data": {
      "text/plain": [
       "[5]"
      ]
     },
     "metadata": {},
     "execution_count": 9
    }
   ],
   "source": [
    "# [4,3,6,8,7,5,1,9,2]\n",
    "mergesortbad([5,5,5,5,5,5,5])"
   ]
  },
  {
   "cell_type": "code",
   "execution_count": 10,
   "metadata": {},
   "outputs": [],
   "source": [
    "def max4(w,x,y,z):\n",
    "  if w >= x and w >= y and w >= z:\n",
    "    maximum = w\n",
    "  # Your code below this line\n",
    "  elif x>=w and x>=y and x>=z:\n",
    "      maximum=x\n",
    "  elif y>=w and y>=x and y>=z:\n",
    "      maximum = y\n",
    "  else:\n",
    "      maximum = z\n",
    "\n",
    "  # Your code above this line\n",
    "  return(maximum)"
   ]
  },
  {
   "cell_type": "code",
   "execution_count": 14,
   "metadata": {},
   "outputs": [
    {
     "output_type": "execute_result",
     "data": {
      "text/plain": [
       "6"
      ]
     },
     "metadata": {},
     "execution_count": 14
    }
   ],
   "source": [
    "max4(6,4,6,6)"
   ]
  },
  {
   "cell_type": "code",
   "execution_count": 90,
   "metadata": {},
   "outputs": [],
   "source": [
    "def mypalindrome(l):\n",
    "  if l==[] or len(l) == 1:\n",
    "    return(True)\n",
    "  \n",
    "  else:\n",
    "    return(l==l[::-1])"
   ]
  },
  {
   "cell_type": "code",
   "execution_count": 93,
   "metadata": {},
   "outputs": [],
   "source": [
    "l= [13,12,13]#[23,14,3,14,3,23] "
   ]
  },
  {
   "cell_type": "code",
   "execution_count": 94,
   "metadata": {},
   "outputs": [
    {
     "output_type": "execute_result",
     "data": {
      "text/plain": [
       "True"
      ]
     },
     "metadata": {},
     "execution_count": 94
    }
   ],
   "source": [
    "mypalindrome(l)"
   ]
  },
  {
   "cell_type": "code",
   "execution_count": 96,
   "metadata": {},
   "outputs": [],
   "source": [
    "def perfect(n):\n",
    "    factors = [1]\n",
    "    for i in range(2,n):\n",
    "        if n%i==0:\n",
    "            factors.append(i)\n",
    "    \n",
    "    return sum(factors)==n"
   ]
  },
  {
   "cell_type": "code",
   "execution_count": 99,
   "metadata": {},
   "outputs": [
    {
     "output_type": "execute_result",
     "data": {
      "text/plain": [
       "True"
      ]
     },
     "metadata": {},
     "execution_count": 99
    }
   ],
   "source": [
    "perfect(28)"
   ]
  },
  {
   "cell_type": "code",
   "execution_count": 117,
   "metadata": {},
   "outputs": [],
   "source": [
    "def sublist(l1, l2):\n",
    "    # take smaller list and search each item in big list\n",
    "    if len(l1)<len(l2):\n",
    "        small,big = l1,l2\n",
    "    else:\n",
    "        small,big = l2,l1\n",
    "\n",
    "    found = False\n",
    "    for i in range(len(big)-len(small)+1):\n",
    "        print(i)\n",
    "        if small == big[i:i+len(small)]:\n",
    "            found = True\n",
    "    return found    \n",
    "    "
   ]
  },
  {
   "cell_type": "code",
   "execution_count": 133,
   "metadata": {},
   "outputs": [],
   "source": [
    "l1=[2,3,4,5]\n",
    "l2=[]"
   ]
  },
  {
   "cell_type": "code",
   "execution_count": 135,
   "metadata": {},
   "outputs": [
    {
     "output_type": "execute_result",
     "data": {
      "text/plain": [
       "0"
      ]
     },
     "metadata": {},
     "execution_count": 135
    }
   ],
   "source": [
    "len(l2)"
   ]
  },
  {
   "cell_type": "code",
   "execution_count": 134,
   "metadata": {},
   "outputs": [
    {
     "output_type": "stream",
     "name": "stdout",
     "text": [
      "0\n1\n2\n3\n4\n"
     ]
    },
    {
     "output_type": "execute_result",
     "data": {
      "text/plain": [
       "True"
      ]
     },
     "metadata": {},
     "execution_count": 134
    }
   ],
   "source": [
    "sublist(l1,l2)"
   ]
  },
  {
   "cell_type": "code",
   "execution_count": 116,
   "metadata": {},
   "outputs": [
    {
     "output_type": "execute_result",
     "data": {
      "text/plain": [
       "[3]"
      ]
     },
     "metadata": {},
     "execution_count": 116
    }
   ],
   "source": [
    "l2[2:len(l1)]"
   ]
  },
  {
   "cell_type": "code",
   "execution_count": 22,
   "metadata": {},
   "outputs": [
    {
     "output_type": "stream",
     "name": "stdout",
     "text": [
      "aljflajfjfl\n??\n"
     ]
    }
   ],
   "source": [
    "to_print = []\n",
    "while True:\n",
    "  line = input()\n",
    "  if line: to_print.append(line)\n",
    "  else: break\n",
    "    \n",
    "print('\\n'.join(l for l in to_print[2::3]))"
   ]
  },
  {
   "cell_type": "code",
   "execution_count": 23,
   "metadata": {},
   "outputs": [],
   "source": [
    "#1\n",
    "ef maxbad(l):\n",
    "  mymax = l[-1]\n",
    "  for i in range(-1,-len(l),-1):\n",
    "    if l[i] > mymax:\n",
    "       mymax = l[i]\n",
    "  return(mymax)"
   ]
  },
  {
   "cell_type": "code",
   "execution_count": 28,
   "metadata": {},
   "outputs": [
    {
     "output_type": "execute_result",
     "data": {
      "text/plain": [
       "5"
      ]
     },
     "metadata": {},
     "execution_count": 28
    }
   ],
   "source": [
    "maxbad([6,5,4])"
   ]
  },
  {
   "cell_type": "code",
   "execution_count": 29,
   "metadata": {},
   "outputs": [],
   "source": [
    "#2\n",
    "def quicksortbad(l):\n",
    "  if len(l) < 2:\n",
    "    return(l)\n",
    "  else:\n",
    "    pivot = l[0]\n",
    "    smaller = [l[j] for j in range(1,len(l)) if l[j] < pivot]\n",
    "    bigger = [l[j] for j in range(1,len(l)) if l[j] > pivot]\n",
    "    rearrange = quicksortbad(smaller) + [pivot] + quicksortbad(bigger)\n",
    "    return(rearrange)"
   ]
  },
  {
   "cell_type": "code",
   "execution_count": 33,
   "metadata": {},
   "outputs": [
    {
     "output_type": "execute_result",
     "data": {
      "text/plain": [
       "[4, 44]"
      ]
     },
     "metadata": {},
     "execution_count": 33
    }
   ],
   "source": [
    "quicksortbad([4,4,4,4,4])"
   ]
  },
  {
   "cell_type": "code",
   "execution_count": 97,
   "metadata": {},
   "outputs": [],
   "source": [
    "#3\n",
    "def median3(x,y,z):\n",
    "  if x <= y:\n",
    "    if x >= z:\n",
    "      mymedian = x\n",
    "  # Your code below this line\n",
    "    if x <= z:\n",
    "      mymedian = y\n",
    "\n",
    "    if z<= y:\n",
    "      mymedian = z\n",
    "\n",
    "\n",
    "  if x >= y:\n",
    "    if x <= z:\n",
    "        mymedian = x\n",
    "    if x >= z:\n",
    "        mymedian = y\n",
    "\n",
    "  if z <= x:\n",
    "      if z>=y:\n",
    "        mymedian = z\n",
    "\n",
    "\n",
    "#     if y <= z:\n",
    "#       mymedian = y\n",
    "      \n",
    "#     if x<= z:\n",
    "#       mymedian = z\n",
    "\n",
    "#   if x >= y:\n",
    "#     if x>= z:\n",
    "#       mymedian = z\n",
    "#     if x <= z:\n",
    "#       mymedian = x\n",
    "# --------\n",
    "#     else:\n",
    "#         mymedian = y\n",
    "#   if y <= x:\n",
    "#       if y>=z:\n",
    "#           mymedian = z\n",
    "\n",
    "#   if x>=y:\n",
    "#       if y>=z:\n",
    "#         mymedian = y\n",
    "#       else:\n",
    "#         mymedian = z\n",
    "\n",
    "  # Your code above this line\n",
    "  return(mymedian)"
   ]
  },
  {
   "cell_type": "code",
   "execution_count": 100,
   "metadata": {},
   "outputs": [
    {
     "output_type": "execute_result",
     "data": {
      "text/plain": [
       "2"
      ]
     },
     "metadata": {},
     "execution_count": 100
    }
   ],
   "source": [
    "median3(3,2,1)"
   ]
  },
  {
   "cell_type": "code",
   "execution_count": 59,
   "metadata": {},
   "outputs": [],
   "source": [
    "#4\n",
    "def decreasing(l):\n",
    "  if l==[] or len(l) == 1:\n",
    "    return(True)\n",
    "  else:\n",
    "    return(l==sorted(l)[::-1])"
   ]
  },
  {
   "cell_type": "code",
   "execution_count": 60,
   "metadata": {},
   "outputs": [],
   "source": [
    "l=[89,63,44,19,3]"
   ]
  },
  {
   "cell_type": "code",
   "execution_count": 63,
   "metadata": {},
   "outputs": [
    {
     "output_type": "execute_result",
     "data": {
      "text/plain": [
       "True"
      ]
     },
     "metadata": {},
     "execution_count": 63
    }
   ],
   "source": [
    "decreasing([1])"
   ]
  },
  {
   "cell_type": "code",
   "execution_count": 108,
   "metadata": {},
   "outputs": [],
   "source": [
    "#5\n",
    "def sum3cubes(n):\n",
    "    # i,j,k = 1,1,1\n",
    "    found = False\n",
    "    if 1 + 1 + 1 == n:\n",
    "        return True\n",
    "        \n",
    "    for i in range(1,n//2):\n",
    "        # print(i)\n",
    "        \n",
    "        if 1 + 1 + i**3 == n:\n",
    "            # print(i)\n",
    "            return True\n",
    "            \n",
    "        elif 1 + i**3 + (i+1)**3 == n:\n",
    "          \treturn True\n",
    "          \n",
    "        elif i**3 + (i+1)**3 + (i+2)**3 == n:\n",
    "            # print(i**3 + (i+1)**3 + (i+2)**3 )\n",
    "            return True\n",
    "        else:\n",
    "          \tpass\n",
    "    return found"
   ]
  },
  {
   "cell_type": "code",
   "execution_count": 110,
   "metadata": {},
   "outputs": [
    {
     "output_type": "execute_result",
     "data": {
      "text/plain": [
       "False"
      ]
     },
     "metadata": {},
     "execution_count": 110
    }
   ],
   "source": [
    "sum3cubes(12)"
   ]
  },
  {
   "cell_type": "code",
   "execution_count": 113,
   "metadata": {},
   "outputs": [],
   "source": [
    "#6\n",
    "def uncommon(l1,l2):\n",
    "    return sorted(set(l1)^set(l2))"
   ]
  },
  {
   "cell_type": "code",
   "execution_count": 114,
   "metadata": {},
   "outputs": [
    {
     "output_type": "execute_result",
     "data": {
      "text/plain": [
       "[1, 2, 3, 5]"
      ]
     },
     "metadata": {},
     "execution_count": 114
    }
   ],
   "source": [
    "uncommon([2,2,4],[1,3,3,4,5])"
   ]
  },
  {
   "cell_type": "code",
   "execution_count": 118,
   "metadata": {},
   "outputs": [
    {
     "output_type": "execute_result",
     "data": {
      "text/plain": [
       "'line2line4'"
      ]
     },
     "metadata": {},
     "execution_count": 118
    }
   ],
   "source": [
    "#7\n",
    "lines = []\n",
    "\n",
    "while True:\n",
    "    s = input()\n",
    "    if s: lines.append(s)\n",
    "    else: break\n",
    "\n",
    "print('\\n'.join(l_even for i,l_even in enumerate(lines) if (i)%2==0))\n",
    "print('\\n'.join(l_odd for i,l_odd in enumerate(lines) if (i)%2!=0))"
   ]
  },
  {
   "cell_type": "code",
   "execution_count": 120,
   "metadata": {},
   "outputs": [
    {
     "output_type": "execute_result",
     "data": {
      "text/plain": [
       "'line2 line4'"
      ]
     },
     "metadata": {},
     "execution_count": 120
    }
   ],
   "source": [
    "' '.join(l_even for i,l_even in enumerate(lines) if (i)%2!=0)"
   ]
  },
  {
   "cell_type": "code",
   "execution_count": 59,
   "metadata": {},
   "outputs": [],
   "source": [
    "#8\n",
    "def aboveaverage(l):\n",
    "    if len(l) == 0:\n",
    "        results = []\n",
    "\n",
    "    elif len(l)==1: \n",
    "        results = [l[0][0]]\n",
    "\n",
    "    elif [s==0 for p,s in l]:\n",
    "        results = sorted(set([p for p,s in l]))\n",
    "\n",
    "    else:\n",
    "        score_dict = {}\n",
    "        total = []\n",
    "        for p,s in l:\n",
    "            # print(p,s)\n",
    "            if p in list(score_dict.keys()):\n",
    "                score_dict[p].append(s)\n",
    "                total.append(s)\n",
    "            else:\n",
    "                score_dict[p] = [s]\n",
    "                total.append(s)\n",
    "        average = sum(total)/len(total)\n",
    "        averages = [(p,(sum(s)/len(s))) for p,s in score_dict.items()]\n",
    "        # print(averages)\n",
    "        results = [p for p,s in averages if s>average]\n",
    "        \n",
    "    return sorted(results)"
   ]
  },
  {
   "cell_type": "code",
   "execution_count": 60,
   "metadata": {},
   "outputs": [],
   "source": [
    "# l = [('Kohli',73),('Ashwin',33),('Kohli',7),('Pujara',122),('Ashwin',90)]\n",
    "l = [('Kohli',73),('Ashwin',33),('Kohli',7),('Pujara',22),('Ashwin',47)]\n",
    "l = [('Kohli',0),('Ashwin',0),('Kohli',0),('Pujara',0),('Ashwin',0)]\n",
    "# l = [('Kohli',73)]\n",
    "\n"
   ]
  },
  {
   "cell_type": "code",
   "execution_count": 61,
   "metadata": {},
   "outputs": [
    {
     "output_type": "execute_result",
     "data": {
      "text/plain": [
       "['Ashwin', 'Kohli', 'Pujara']"
      ]
     },
     "metadata": {},
     "execution_count": 61
    }
   ],
   "source": [
    "aboveaverage(l)"
   ]
  },
  {
   "cell_type": "code",
   "execution_count": 42,
   "metadata": {},
   "outputs": [
    {
     "output_type": "stream",
     "name": "stdout",
     "text": [
      "['Kohli']\n"
     ]
    }
   ],
   "source": [
    "if len(l)==1: print([l[0][0]])"
   ]
  },
  {
   "cell_type": "code",
   "execution_count": 111,
   "metadata": {},
   "outputs": [],
   "source": [
    "#test score\n",
    "testscore = {'1' : 100,\n",
    "            '2' : 100,\n",
    "            '3' : 66,\n",
    "            '4' : 75,\n",
    "            '5' : 83,\n",
    "            '6' : 100,\n",
    "            '7' : 100,\n",
    "            '8' : 75}"
   ]
  },
  {
   "cell_type": "code",
   "execution_count": 112,
   "metadata": {},
   "outputs": [
    {
     "output_type": "stream",
     "name": "stdout",
     "text": [
      "Average score: \n"
     ]
    },
    {
     "output_type": "execute_result",
     "data": {
      "text/plain": [
       "87.375"
      ]
     },
     "metadata": {},
     "execution_count": 112
    }
   ],
   "source": [
    "testscore = list(testscore.values())\n",
    "print('Average score: ')\n",
    "sum(testscore)/len(testscore)"
   ]
  },
  {
   "cell_type": "code",
   "execution_count": null,
   "metadata": {},
   "outputs": [],
   "source": []
  }
 ]
}